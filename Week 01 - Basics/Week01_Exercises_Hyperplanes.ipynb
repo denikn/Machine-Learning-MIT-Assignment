{
 "cells": [
  {
   "cell_type": "markdown",
   "id": "87b4adb9",
   "metadata": {},
   "source": [
    "# 1) Hyperplanes"
   ]
  },
  {
   "cell_type": "markdown",
   "id": "3342a5eb",
   "metadata": {},
   "source": [
    "We will be using the notion of a hyperplane a great deal. A hyperplane is useful for classification, as discussed in the notes.\n",
    "<img src=\"example1.png\" width=\"500\" height=\"500\">\n",
    "\n",
    "Some notational conventions:\n",
    "\n",
    "x: is a point in d-dimensional space (represented as a column vector of d real numbers), R^d\n",
    "d\n",
    "\n",
    "θ: a point in d-dimensional space (represented as a column vector of d real numbers), R^dR\n",
    "d\n",
    "\n",
    "θ0: a single real number\n",
    "\n",
    "We represent x and θ as column vectors, that is, d×1 arrays. Remember dot products? We write dot products in one of two ways: θ^T x or θ⋅.x. In both cases:\n",
    "\n",
    "<br />\n",
    "<center>\n",
    "θ^ \n",
    "T\n",
    " x=θ⋅x=θ \n",
    "1\n",
    "​\n",
    " x \n",
    "1\n",
    "​\n",
    " +θ \n",
    "2\n",
    "​\n",
    " x \n",
    "2\n",
    "​\n",
    " +…+θ \n",
    "d\n",
    "​\n",
    " x \n",
    "d\n",
    "​\n",
    "</center>\n",
    "<br />\n",
    "\n",
    "In a dd-dimensional space, a hyperplane is a d-1d−1 dimensional subspace that can be characterized by a normal to the subspace and a scalar offset. For example, any line is a hyperplane in two dimensions, an infinite flat sheet is a hyperplane in three dimensions, but in higher dimensions, hyperplanes are harder to visualize. Fortunately, they are easy to specify.\n",
    "\n",
    "Hint: When doing the two-dimensional problems below, start by drawing a picture. That should help your intuition. If you get stuck, take a look at this geometry review for planes and hyperplanes."
   ]
  },
  {
   "cell_type": "markdown",
   "id": "b51a47ff",
   "metadata": {},
   "source": [
    "## 1.1) Through origin"
   ]
  },
  {
   "cell_type": "markdown",
   "id": "18996a6a",
   "metadata": {},
   "source": [
    "In dd dimensions, any vector \\theta \\in R^dθ∈R \n",
    "d\n",
    "  can define a hyperplane. Specifically, the hyperplane through the origin associated with \\thetaθ is the set of all vectors x \\in R^dx∈R \n",
    "d\n",
    "  such that \\theta^T x = 0θ \n",
    "T\n",
    " x=0. Note that this hyperplane includes the origin, since x=0x=0 is in the set.\n",
    " \n",
    " <img src=\"example1-labelled.png\" width=\"500\" height=\"500\">\n",
    " \n",
    " Ex1.1a: In two dimensions, \\theta = [\\theta_1, \\theta_2]θ=[θ \n",
    "1\n",
    "​\n",
    " ,θ \n",
    "2\n",
    "​\n",
    " ] can define a hyperplane. Let \\theta = [1, 2]θ=[1,2]. Give a vector that lies on the hyperplane given by the set of all x \\in R^2x∈R \n",
    "2\n",
    "  such that \\theta^T x = 0θ \n",
    "T\n",
    " x=0:\n",
    " \n",
    " Enter your answer as a Python list of numbers."
   ]
  },
  {
   "cell_type": "code",
   "execution_count": 3,
   "id": "530eddb3",
   "metadata": {},
   "outputs": [
    {
     "name": "stdout",
     "output_type": "stream",
     "text": [
      "[0, 0]\n"
     ]
    }
   ],
   "source": [
    "print([0,0])"
   ]
  },
  {
   "cell_type": "markdown",
   "id": "bc120992",
   "metadata": {},
   "source": [
    "Ex1.1b. Using the same hyperplane, determine a vector that is normal to the hyperplane."
   ]
  },
  {
   "cell_type": "code",
   "execution_count": 4,
   "id": "781262ae",
   "metadata": {},
   "outputs": [
    {
     "name": "stdout",
     "output_type": "stream",
     "text": [
      "[1, 2]\n"
     ]
    }
   ],
   "source": [
    "print([1,2])"
   ]
  },
  {
   "cell_type": "markdown",
   "id": "b5591208",
   "metadata": {},
   "source": [
    "Ex1.1c. Now, in dd dimensions, supply the simplified formula for a unit vector normal to the hyperplane in terms of \\thetaθ where \\theta \\in R^dθ∈R \n",
    "d\n",
    " ."
   ]
  },
  {
   "cell_type": "markdown",
   "id": "2eda1a86",
   "metadata": {},
   "source": [
    "In this question and the subsequent ones that ask for a formula, enter your answer as a Python expression. Use theta for \\thetaθ, theta_0 for \\theta_0θ \n",
    "0\n",
    "​\n",
    " , x for any array x,x, transpose(x) for transpose of an array, norm(x) for the length (L2-norm) of a vector, and x@y to indicate a matrix product of two arrays."
   ]
  },
  {
   "cell_type": "code",
   "execution_count": 6,
   "id": "02c8d604",
   "metadata": {},
   "outputs": [
    {
     "name": "stdout",
     "output_type": "stream",
     "text": [
      "-theta/((transpose(theta)@theta)**.5)\n"
     ]
    }
   ],
   "source": [
    "print(\"-theta/((transpose(theta)@theta)**.5)\")"
   ]
  },
  {
   "cell_type": "markdown",
   "id": "13cb666d",
   "metadata": {},
   "source": [
    "## 1.2) General hyperplane, distance to origin"
   ]
  },
  {
   "cell_type": "markdown",
   "id": "324c3004",
   "metadata": {},
   "source": [
    "Now, we'll consider hyperplanes defined by \\theta^T x + \\theta_0 = 0θ \n",
    "T\n",
    " x+θ \n",
    "0\n",
    "​\n",
    " =0, which do not necessarily go through the origin. Distances from points to such general hyperplanes are useful in machine learning models, such as the perceptron (as described in the notes).\n",
    "\n",
    "Define the positive side of a hyperplane to be the half-space defined by \\{x \\mid \\theta^T x + \\theta_0 &gt; 0\\}{x∣θ \n",
    "T\n",
    " x+θ \n",
    "0\n",
    "​>0}, so \\thetaθ points toward the positive side.\n",
    "\n",
    " <img src=\"example2.png\" width=\"500\" height=\"500\">"
   ]
  },
  {
   "cell_type": "markdown",
   "id": "0493f99a",
   "metadata": {},
   "source": [
    "Ex1.2a. In two dimensions, let \\theta = [3, 4]θ=[3,4] and \\theta_0 = 5θ \n",
    "0\n",
    "​\n",
    " =5. What is the signed perpendicular distance from the hyperplane to the origin? The distance should be positive if the origin is on the positive side of the hyperplane, 0 on the hyperplane and negative otherwise. It may be helpful to draw your own picture of the hyperplane (like the one above but with the right intercepts and slopes) with \\theta = [3, 4]θ=[3,4] and \\theta_0 = 5θ \n",
    "0\n",
    "​\n",
    " =5. Hint -Draw a picture"
   ]
  },
  {
   "cell_type": "code",
   "execution_count": 9,
   "id": "67219292",
   "metadata": {},
   "outputs": [
    {
     "name": "stdout",
     "output_type": "stream",
     "text": [
      "1\n"
     ]
    }
   ],
   "source": [
    "print(1) #the distance from the origin to the hyperplane"
   ]
  },
  {
   "cell_type": "markdown",
   "id": "f6a3f876",
   "metadata": {},
   "source": [
    "Ex1.2b: Now, in dd dimensions, supply the formula for the signed perpendicular distance from a hyperplane specified by \\theta, \\theta_0θ,θ \n",
    "0\n",
    "​\n",
    "  to the origin. If you get stuck, take a look at this walkthrough of point-plane distances."
   ]
  },
  {
   "cell_type": "code",
   "execution_count": 11,
   "id": "3bb62822",
   "metadata": {},
   "outputs": [
    {
     "name": "stdout",
     "output_type": "stream",
     "text": [
      "theta_0 / norm(theta)\n"
     ]
    }
   ],
   "source": [
    "print(\"theta_0 / norm(theta)\")"
   ]
  },
  {
   "cell_type": "markdown",
   "id": "b8f7d4d3",
   "metadata": {},
   "source": [
    "# 2) Numpy intro"
   ]
  },
  {
   "cell_type": "markdown",
   "id": "97198fc0",
   "metadata": {},
   "source": [
    "numpy is a package for doing a variety of numerical computations in Python. We will use it extensively. It supports writing very compact and efficient code for handling arrays of data. We will start every code file that uses numpy with import numpy as np, so that we can reference numpy functions with the 'np.' precedent.\n",
    "\n",
    "You can find general documentation on numpy here, and we also have a 6.036-specific numpy tutorial.\n",
    "\n",
    "The fundamental data type in numpy is the multidimensional array, and arrays are usually generated from a nested list of values using the np.array command. Every array has a shape attribute which is a tuple of dimension sizes.\n",
    "\n",
    "In this class, we will use two-dimensional arrays almost exclusively. That is, we will use 2D arrays to represent both matrices and vectors! This is one of several times where we will seem to be unnecessarily fussy about how we construct and manipulate vectors and matrices, but we have our reasons. We have found that using this format results in predictable results from numpy operations.\n",
    "\n",
    "Using 2D arrays for matrices is clear enough, but what about column and row vectors? We will represent a column vector as a d\\times 1d×1 array and a row vector as a 1\\times d1×d array. So for example, we will represent the three-element column vector,\n",
    "\n",
    "x = \\begin{bmatrix}1 \\\\ 5 \\\\ 3\\end{bmatrix},\n",
    "\n",
    "as a 3 \\times 13×1 numpy array. This array can be generated with\n",
    "~~~    x = np.array([[1],[5],[3]]),\n",
    "\n",
    "or by using the transpose of a 1 \\times 31×3 array (a row vector) as in,\n",
    "\n",
    "~~~    x = np.transpose(np.array([[1,5,3]]),\n",
    "\n",
    "where you should take note of the \"double\" brackets.\n",
    "\n",
    "It is often more convenient to use the array attribute .T , as in\n",
    "\n",
    "~~~    x = np.array([[1,5,3]]).T\n",
    "\n",
    "to compute the transpose.\n",
    "\n",
    "Before you begin, we would like to note that in this assignment we will not accept answers that use \"loops\". One reason for avoiding loops is efficiency. For many operations, numpy calls a compiled library written in C, and the library is far faster than that interpreted Python (in part due to the low-level nature of C, optimizations like vectorization, and in some cases, parallelization). But the more important reason for avoiding loops is that using higher-level constructs leads to simpler code that is easier to debug. So, we expect that you should be able to transform loop operations into equivalent operations on numpy arrays, and we will practice this in this assignment.\n",
    "\n",
    "Of course, there will be more complex algorithms that require loops, but when manipulating matrices you should always look for a solution without loops.\n",
    "\n",
    "Numpy functions and features you should be familiar with for this assignment:\n",
    "\n",
    "np.array\n",
    "np.transpose (and the equivalent method a.T)\n",
    "np.ndarray.shape\n",
    "np.dot (and the equivalent method a.dot(b) )\n",
    "np.sign\n",
    "np.sum (look at the axis and keepdims arguments)\n",
    "Elementwise operators +, -, *, /\n",
    "Note that in Python, np.dot(a, b) is the matrix product a@b, not the dot product a^T ba \n",
    "T\n",
    " b."
   ]
  },
  {
   "cell_type": "markdown",
   "id": "d9819bc9",
   "metadata": {},
   "source": [
    "## 2.1) Array"
   ]
  },
  {
   "cell_type": "markdown",
   "id": "3b93a55f",
   "metadata": {},
   "source": [
    "Provide an expression that sets A to be a 2 \\times 32×3 numpy array (22 rows by 33 columns), containing any values you wish."
   ]
  },
  {
   "cell_type": "code",
   "execution_count": 14,
   "id": "736a5b31",
   "metadata": {},
   "outputs": [
    {
     "name": "stdout",
     "output_type": "stream",
     "text": [
      "[[ 2  4  6]\n",
      " [ 6  8 10]]\n"
     ]
    }
   ],
   "source": [
    "import numpy as np\n",
    "A = np.array([[2, 4, 6], [6, 8, 10]], np.int32)\n",
    "\n",
    "print(A)"
   ]
  },
  {
   "cell_type": "markdown",
   "id": "15374fcf",
   "metadata": {},
   "source": [
    "## 2.2) Transpose"
   ]
  },
  {
   "cell_type": "markdown",
   "id": "5ee0df5c",
   "metadata": {},
   "source": [
    "Write a procedure that takes an array and returns the transpose of the array. You can use 'np.transpose' or the '.T', but you may not use a loop."
   ]
  },
  {
   "cell_type": "code",
   "execution_count": 17,
   "id": "7dccbf66",
   "metadata": {},
   "outputs": [
    {
     "name": "stdout",
     "output_type": "stream",
     "text": [
      "[[1 4]\n",
      " [2 5]\n",
      " [3 6]]\n"
     ]
    }
   ],
   "source": [
    "import numpy as np\n",
    "def tp(A):\n",
    "    return np.transpose(A)\n",
    "\n",
    "print(tp([[1,2,3],[4,5,6]]))"
   ]
  },
  {
   "cell_type": "markdown",
   "id": "465072a6",
   "metadata": {},
   "source": [
    "## 2.3) Shapes"
   ]
  },
  {
   "cell_type": "markdown",
   "id": "a25c2e2b",
   "metadata": {},
   "source": [
    "Let A be a 4\\times 24×2 numpy array, B be a 4\\times 34×3 array, and C be a 4\\times 14×1 array. For each of the following expressions, indicate the shape of the result as a tuple of integers (recall python tuples use parentheses, not square brackets, which are for lists, and a tuple of a single object x is written as (x,) with a comma) or \"none\" (as a Python string with quotes) if it is illegal.\n",
    "\n",
    "Ex2.3a (c*c)"
   ]
  },
  {
   "cell_type": "code",
   "execution_count": 20,
   "id": "17eb8943",
   "metadata": {},
   "outputs": [
    {
     "name": "stdout",
     "output_type": "stream",
     "text": [
      "(4, 1)\n",
      "(4, 1)\n",
      "(4, 1)\n",
      "[[ 4]\n",
      " [10]\n",
      " [18]\n",
      " [28]]\n"
     ]
    }
   ],
   "source": [
    "import numpy as np\n",
    "\n",
    "first_four_by_one = np.array([[1], [2], [3], [4]])\n",
    "print(first_four_by_one.shape)\n",
    "\n",
    "second_four_by_one = np.array([[4], [5], [6], [7]])\n",
    "print(second_four_by_one.shape)\n",
    "\n",
    "result = first_four_by_one * second_four_by_one\n",
    "print(result.shape)\n",
    "print(result)"
   ]
  },
  {
   "cell_type": "markdown",
   "id": "1d796d32",
   "metadata": {},
   "source": [
    "Ex2.3b (np.dot(C, C))"
   ]
  },
  {
   "cell_type": "code",
   "execution_count": 34,
   "id": "0c2e77d3",
   "metadata": {},
   "outputs": [
    {
     "name": "stdout",
     "output_type": "stream",
     "text": [
      "The result is error, should be answer as 'none'\n"
     ]
    }
   ],
   "source": [
    "import numpy as np\n",
    "\n",
    "c = np.array([[1], [2], [3], [4]])\n",
    "# print(np.dot(c,c))\n",
    "\n",
    "# print(np.dot(c,c).shape)\n",
    "\n",
    "print(\"The result is error, should be answer as 'none'\")"
   ]
  },
  {
   "cell_type": "markdown",
   "id": "19c37226",
   "metadata": {},
   "source": [
    "Ex2.3c (np.dot(np.transpose(C), C))"
   ]
  },
  {
   "cell_type": "code",
   "execution_count": 33,
   "id": "679ff8cc",
   "metadata": {},
   "outputs": [
    {
     "name": "stdout",
     "output_type": "stream",
     "text": [
      "[[30]]\n",
      "(1, 1)\n"
     ]
    }
   ],
   "source": [
    "import numpy as np\n",
    "\n",
    "c = np.array([[1], [2], [3], [4]])\n",
    "print(np.dot(np.transpose(c), c))\n",
    "\n",
    "print(np.dot(np.transpose(c), c).shape)"
   ]
  },
  {
   "cell_type": "markdown",
   "id": "8abfd7da",
   "metadata": {},
   "source": [
    "Ex2.3d (np.dot(A, B))"
   ]
  },
  {
   "cell_type": "code",
   "execution_count": 44,
   "id": "7c6cac6a",
   "metadata": {},
   "outputs": [
    {
     "name": "stdout",
     "output_type": "stream",
     "text": [
      "The result is error, should be answer as 'none'\n"
     ]
    }
   ],
   "source": [
    "import numpy as np\n",
    "\n",
    "a = np.array([[1,2,3,4], [2,2,3,4]])\n",
    "b = np.array([[1,2,3,4], [2,2,3,4], [2,2,3,4]])\n",
    "# print(np.dot(c,c))\n",
    "\n",
    "# print(np.dot(c,c).shape)\n",
    "\n",
    "print(\"The result is error, should be answer as 'none'\")"
   ]
  },
  {
   "cell_type": "markdown",
   "id": "a9f86496",
   "metadata": {},
   "source": [
    "Ex2.3e (np.dot(A.T, B))"
   ]
  },
  {
   "cell_type": "code",
   "execution_count": 46,
   "id": "8a0f6f59",
   "metadata": {},
   "outputs": [
    {
     "name": "stdout",
     "output_type": "stream",
     "text": [
      "The result is error, should be answer as 'none'. But the correct result is (2,3)\n"
     ]
    }
   ],
   "source": [
    "import numpy as np\n",
    "\n",
    "a = np.array([[1,2,3,4], [2,2,3,4]])\n",
    "b = np.array([[1,2,3,4], [2,2,3,4], [2,2,3,4]])\n",
    "\n",
    "# print(np.dot(np.transpose(a), b))\n",
    "\n",
    "# print(np.dot(a,b).shape)\n",
    "\n",
    "print(\"The result is error, should be answer as 'none'. But the correct result is (2,3)\")"
   ]
  },
  {
   "cell_type": "markdown",
   "id": "07e0d20c",
   "metadata": {},
   "source": [
    "Ex2.3f (D = np.array([1,2,3]))"
   ]
  },
  {
   "cell_type": "code",
   "execution_count": 50,
   "id": "17a9800b",
   "metadata": {},
   "outputs": [
    {
     "name": "stdout",
     "output_type": "stream",
     "text": [
      "[1 2 3]\n",
      "The result should be (3, )\n"
     ]
    }
   ],
   "source": [
    "import numpy as np\n",
    "\n",
    "D = np.array([1,2,3])\n",
    "\n",
    "print(D)\n",
    "\n",
    "print(\"The result should be (3, )\")"
   ]
  },
  {
   "cell_type": "markdown",
   "id": "0ea1f641",
   "metadata": {},
   "source": [
    "Ex2.3g (A[:,1])"
   ]
  },
  {
   "cell_type": "code",
   "execution_count": 58,
   "id": "3b694b48",
   "metadata": {},
   "outputs": [
    {
     "name": "stdout",
     "output_type": "stream",
     "text": [
      "[2 2 2 2]\n",
      "(4,)\n"
     ]
    }
   ],
   "source": [
    "import numpy as np\n",
    "\n",
    "a = np.array([[1,2,3,4], [2,2,3,4], [1,2,3,4], [1,2,3,4]])\n",
    "\n",
    "print(a[:,1])\n",
    "print(a[:,1].shape)"
   ]
  },
  {
   "cell_type": "markdown",
   "id": "2e25aa91",
   "metadata": {},
   "source": [
    "Ex2.3h (A[:,1:2])"
   ]
  },
  {
   "cell_type": "code",
   "execution_count": 59,
   "id": "1c0e51d9",
   "metadata": {},
   "outputs": [
    {
     "name": "stdout",
     "output_type": "stream",
     "text": [
      "[[2]\n",
      " [2]\n",
      " [2]\n",
      " [2]]\n",
      "(4, 1)\n"
     ]
    }
   ],
   "source": [
    "import numpy as np\n",
    "\n",
    "a = np.array([[1,2,3,4], [2,2,3,4], [1,2,3,4], [1,2,3,4]])\n",
    "\n",
    "print(a[:,1:2])\n",
    "print(a[:,1:2].shape)"
   ]
  },
  {
   "cell_type": "markdown",
   "id": "7ea93ea3",
   "metadata": {},
   "source": [
    "## 2.4) Row vector"
   ]
  },
  {
   "cell_type": "markdown",
   "id": "8b735e47",
   "metadata": {},
   "source": [
    "Write a procedure that takes a list of numbers and returns a 2D numpy array representing a row vector containing those numbers."
   ]
  },
  {
   "cell_type": "code",
   "execution_count": 63,
   "id": "4edd200c",
   "metadata": {},
   "outputs": [
    {
     "name": "stdout",
     "output_type": "stream",
     "text": [
      "[[[1 2 3 4]\n",
      "  [2 2 3 4]\n",
      "  [1 2 3 4]\n",
      "  [1 2 3 4]]]\n"
     ]
    }
   ],
   "source": [
    "import numpy as np\n",
    "def rv(value_list):\n",
    "    return np.array([value_list])\n",
    "\n",
    "print(rv([[1,2,3,4], [2,2,3,4], [1,2,3,4], [1,2,3,4]]))"
   ]
  },
  {
   "cell_type": "markdown",
   "id": "8663c36c",
   "metadata": {},
   "source": [
    "## 2.5) Column vector"
   ]
  },
  {
   "cell_type": "markdown",
   "id": "f69ebd0e",
   "metadata": {},
   "source": [
    "Write a procedure that takes a list of numbers and returns a 2D numpy array representing a column vector containing those numbers. You can use the rv procedure.\n",
    "\n"
   ]
  },
  {
   "cell_type": "code",
   "execution_count": 65,
   "id": "00ad94ed",
   "metadata": {},
   "outputs": [
    {
     "name": "stdout",
     "output_type": "stream",
     "text": [
      "[[[1]\n",
      "  [2]\n",
      "  [1]\n",
      "  [1]]\n",
      "\n",
      " [[2]\n",
      "  [2]\n",
      "  [2]\n",
      "  [2]]\n",
      "\n",
      " [[3]\n",
      "  [3]\n",
      "  [3]\n",
      "  [3]]\n",
      "\n",
      " [[4]\n",
      "  [4]\n",
      "  [4]\n",
      "  [4]]]\n"
     ]
    }
   ],
   "source": [
    "import numpy as np\n",
    "def cv(value_list):\n",
    "    return np.transpose(np.array([value_list]))\n",
    "\n",
    "print(cv([[1,2,3,4], [2,2,3,4], [1,2,3,4], [1,2,3,4]]))"
   ]
  },
  {
   "cell_type": "markdown",
   "id": "c0f434f1",
   "metadata": {},
   "source": [
    "## 2.6) length"
   ]
  },
  {
   "cell_type": "markdown",
   "id": "8624c7e0",
   "metadata": {},
   "source": [
    "Write a procedure that takes a column vector and returns the vector's Euclidean length (or equivalently, its magnitude) as a scalar. You may not use np.linalg.norm, and you may not use a loop."
   ]
  },
  {
   "cell_type": "code",
   "execution_count": 66,
   "id": "4c455273",
   "metadata": {},
   "outputs": [
    {
     "name": "stdout",
     "output_type": "stream",
     "text": [
      "11.090536506409418\n"
     ]
    }
   ],
   "source": [
    "import numpy as np\n",
    "def length(col_v):\n",
    "    return np.sqrt(np.sum(np.square([col_v])))\n",
    "\n",
    "print(length([[1,2,3,4], [2,2,3,4], [1,2,3,4], [1,2,3,4]]))"
   ]
  },
  {
   "cell_type": "markdown",
   "id": "0d0db553",
   "metadata": {},
   "source": [
    "## 2.7) normalize"
   ]
  },
  {
   "cell_type": "markdown",
   "id": "03437832",
   "metadata": {},
   "source": [
    "Write a procedure that takes a column vector and returns a unit vector in the same direction. You may not use a for loop. Use your length procedure from above (you do not need to define it again)."
   ]
  },
  {
   "cell_type": "code",
   "execution_count": 67,
   "id": "be3e17b4",
   "metadata": {},
   "outputs": [
    {
     "name": "stdout",
     "output_type": "stream",
     "text": [
      "[[0.09016696 0.18033393 0.27050089 0.36066785]\n",
      " [0.18033393 0.18033393 0.27050089 0.36066785]\n",
      " [0.09016696 0.18033393 0.27050089 0.36066785]\n",
      " [0.09016696 0.18033393 0.27050089 0.36066785]]\n"
     ]
    }
   ],
   "source": [
    "import numpy as np\n",
    "def normalize(col_v):\n",
    "    return col_v / np.linalg.norm(col_v)\n",
    "\n",
    "print(normalize([[1,2,3,4], [2,2,3,4], [1,2,3,4], [1,2,3,4]]))"
   ]
  },
  {
   "cell_type": "markdown",
   "id": "cb0df4ff",
   "metadata": {},
   "source": [
    "## 2.8) indexing"
   ]
  },
  {
   "cell_type": "markdown",
   "id": "897192db",
   "metadata": {},
   "source": [
    "Write a procedure that takes a 2D array and returns the final column as a two dimensional array. You may not use a for loop."
   ]
  },
  {
   "cell_type": "code",
   "execution_count": 77,
   "id": "73b755f0",
   "metadata": {},
   "outputs": [
    {
     "name": "stdout",
     "output_type": "stream",
     "text": [
      "[[2]\n",
      " [4]]\n"
     ]
    }
   ],
   "source": [
    "import numpy as np\n",
    "def index_final_col(A):\n",
    "    flipped_array = np.flip(A, 1)\n",
    "    return flipped_array[:,:1]\n",
    "\n",
    "print(index_final_col([[1,2],[3,4]]))"
   ]
  },
  {
   "cell_type": "markdown",
   "id": "50066c2a",
   "metadata": {},
   "source": [
    "## 2.9) Representing data"
   ]
  },
  {
   "cell_type": "markdown",
   "id": "d99ac4cc",
   "metadata": {},
   "source": [
    "Alice has collected weight and height data of 3 people and has written it down below:\n",
    "Weight, height\n",
    "\n",
    "150, 5.8\n",
    "\n",
    "130, 5.5\n",
    "\n",
    "120, 5.3\n",
    "\n",
    "She wants to put this into a numpy array such that each row represents one individual's height and weight in the order listed. Write code to set data equal to the appropriate numpy array:"
   ]
  },
  {
   "cell_type": "code",
   "execution_count": 79,
   "id": "eb666bb9",
   "metadata": {},
   "outputs": [
    {
     "name": "stdout",
     "output_type": "stream",
     "text": [
      "[[150.    5.8]\n",
      " [130.    5.5]\n",
      " [120.    5.3]]\n"
     ]
    }
   ],
   "source": [
    "import numpy as np\n",
    "data = np.array([[150, 5.8], [130, 5.5], [120, 5.3]])\n",
    "\n",
    "print(data)"
   ]
  },
  {
   "cell_type": "markdown",
   "id": "1dbef5d1",
   "metadata": {},
   "source": [
    "Now she wants to compute the sum of each person's height and weight as a column vector by multiplying data by another numpy array. She has written the following incorrect code to do so and needs your help to fix it:"
   ]
  },
  {
   "cell_type": "markdown",
   "id": "2dd94591",
   "metadata": {},
   "source": [
    "## 2.10) Matrix multiplication\n"
   ]
  },
  {
   "cell_type": "code",
   "execution_count": 81,
   "id": "b8069c61",
   "metadata": {},
   "outputs": [
    {
     "name": "stdout",
     "output_type": "stream",
     "text": [
      "[[155.8]\n",
      " [135.5]\n",
      " [125.3]]\n"
     ]
    }
   ],
   "source": [
    "import numpy as np\n",
    "def transform(data):\n",
    "    return (np.dot(data, np.array([[1], [1]])))\n",
    "\n",
    "print(transform([[150, 5.8], [130, 5.5], [120, 5.3]]))"
   ]
  },
  {
   "cell_type": "code",
   "execution_count": null,
   "id": "c0075c29",
   "metadata": {},
   "outputs": [],
   "source": []
  }
 ],
 "metadata": {
  "kernelspec": {
   "display_name": "Python 3",
   "language": "python",
   "name": "python3"
  },
  "language_info": {
   "codemirror_mode": {
    "name": "ipython",
    "version": 3
   },
   "file_extension": ".py",
   "mimetype": "text/x-python",
   "name": "python",
   "nbconvert_exporter": "python",
   "pygments_lexer": "ipython3",
   "version": "3.8.8"
  }
 },
 "nbformat": 4,
 "nbformat_minor": 5
}
