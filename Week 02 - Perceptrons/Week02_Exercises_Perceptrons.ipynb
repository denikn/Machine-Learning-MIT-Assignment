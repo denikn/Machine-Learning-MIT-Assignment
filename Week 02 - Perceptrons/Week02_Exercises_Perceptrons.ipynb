{
  "nbformat": 4,
  "nbformat_minor": 5,
  "metadata": {
    "kernelspec": {
      "display_name": "Python 3",
      "language": "python",
      "name": "python3"
    },
    "language_info": {
      "codemirror_mode": {
        "name": "ipython",
        "version": 3
      },
      "file_extension": ".py",
      "mimetype": "text/x-python",
      "name": "python",
      "nbconvert_exporter": "python",
      "pygments_lexer": "ipython3",
      "version": "3.8.8"
    },
    "colab": {
      "name": "Week02_Exercises_Perceptrons.ipynb",
      "provenance": [],
      "include_colab_link": true
    }
  },
  "cells": [
    {
      "cell_type": "markdown",
      "metadata": {
        "id": "view-in-github",
        "colab_type": "text"
      },
      "source": [
        "<a href=\"https://colab.research.google.com/github/denikn/Machine-Learning-MIT-Assignment/blob/main/Week%2002%20-%20Perceptrons/Week02_Exercises_Perceptrons.ipynb\" target=\"_parent\"><img src=\"https://colab.research.google.com/assets/colab-badge.svg\" alt=\"Open In Colab\"/></a>"
      ]
    },
    {
      "cell_type": "markdown",
      "metadata": {
        "id": "eadd64f3"
      },
      "source": [
        "# 1) Classification"
      ],
      "id": "eadd64f3"
    },
    {
      "cell_type": "markdown",
      "metadata": {
        "id": "662f8bb5"
      },
      "source": [
        "Consider a linear classifier through the origin in 4 dimensions, specified by"
      ],
      "id": "662f8bb5"
    },
    {
      "cell_type": "markdown",
      "metadata": {
        "id": "f6592dd4"
      },
      "source": [
        "θ=(1,−1,2,−3)\n",
        "\n",
        "Which of the following points xx are classified as positive, i.e. h(x; \\theta) = +1h(x;θ)=+1?\n",
        "\n",
        "1. (1, −1, 2, −3)\n",
        "2. (1, 2, 3, 4)\n",
        "3. (-1, -1, -1, -1)\n",
        "4. (1, 1, 1, 1)\n",
        "\n",
        "Enter a Python list with a subset of the numbers 1, 2, 3, 4:"
      ],
      "id": "f6592dd4"
    },
    {
      "cell_type": "code",
      "metadata": {
        "colab": {
          "base_uri": "https://localhost:8080/"
        },
        "id": "e936a4c6",
        "outputId": "4794b668-a40b-446e-d7fa-47da8ec010bb"
      },
      "source": [
        "# θ⋅x1 =(1,−1,2,−3)⋅(1,−1,2,−3)=15\n",
        "    \n",
        "print(\"[1, 3]\")"
      ],
      "id": "e936a4c6",
      "execution_count": 1,
      "outputs": [
        {
          "output_type": "stream",
          "text": [
            "[1, 3]\n"
          ],
          "name": "stdout"
        }
      ]
    },
    {
      "cell_type": "markdown",
      "metadata": {
        "id": "c7bc9b49"
      },
      "source": [
        "# 2) Classifier vs Hyperplane"
      ],
      "id": "c7bc9b49"
    },
    {
      "cell_type": "markdown",
      "metadata": {
        "id": "121f4c86"
      },
      "source": [
        "Consider another parameter vector\n",
        "\n",
        "θ′=(−1,1,−2,3)"
      ],
      "id": "121f4c86"
    },
    {
      "cell_type": "markdown",
      "metadata": {
        "id": "d3d18891"
      },
      "source": [
        "1. Ex2a Does θ′ represent the same hyperplane as θ does?"
      ],
      "id": "d3d18891"
    },
    {
      "cell_type": "code",
      "metadata": {
        "colab": {
          "base_uri": "https://localhost:8080/"
        },
        "id": "c335be9c",
        "outputId": "a3955a48-a3df-4404-c963-d0a5a5ce0ac6"
      },
      "source": [
        "print(\"yes\")"
      ],
      "id": "c335be9c",
      "execution_count": 2,
      "outputs": [
        {
          "output_type": "stream",
          "text": [
            "yes\n"
          ],
          "name": "stdout"
        }
      ]
    },
    {
      "cell_type": "markdown",
      "metadata": {
        "id": "963820b2"
      },
      "source": [
        "2. Ex2b Does θ′ represent the same classifier as θ does?"
      ],
      "id": "963820b2"
    },
    {
      "cell_type": "code",
      "metadata": {
        "colab": {
          "base_uri": "https://localhost:8080/"
        },
        "id": "111ab380",
        "outputId": "112e78b1-38e8-4d14-d732-432f2e9c35f2"
      },
      "source": [
        "print(\"no\")"
      ],
      "id": "111ab380",
      "execution_count": 3,
      "outputs": [
        {
          "output_type": "stream",
          "text": [
            "no\n"
          ],
          "name": "stdout"
        }
      ]
    },
    {
      "cell_type": "markdown",
      "metadata": {
        "id": "eb83660f"
      },
      "source": [
        "# 3) Linearly Separable Training"
      ],
      "id": "eb83660f"
    },
    {
      "cell_type": "markdown",
      "metadata": {
        "id": "1a4b9ae0"
      },
      "source": [
        "As discussed in lecture and in the lecture notes, note that En(θ,θ0) refers to the training error of the linear classifier specified by θ,θ0, and E(θ,θ0) refers to its test error. What does the fact that the training data are linearly separable imply?\n",
        "\n",
        "Select \"yes\" or \"no\" for each of the following statements:"
      ],
      "id": "1a4b9ae0"
    },
    {
      "cell_type": "markdown",
      "metadata": {
        "id": "16634741"
      },
      "source": [
        "1. Ex3a There must exist θ,θ0 such that E(θ,θ0)=0"
      ],
      "id": "16634741"
    },
    {
      "cell_type": "code",
      "metadata": {
        "colab": {
          "base_uri": "https://localhost:8080/"
        },
        "id": "fc516de7",
        "outputId": "1d7b7695-7277-49d3-b269-4568763591b0"
      },
      "source": [
        "print(\"no\")"
      ],
      "id": "fc516de7",
      "execution_count": 4,
      "outputs": [
        {
          "output_type": "stream",
          "text": [
            "no\n"
          ],
          "name": "stdout"
        }
      ]
    },
    {
      "cell_type": "markdown",
      "metadata": {
        "id": "98d83825"
      },
      "source": [
        "2. Ex3b There must exist θ,θ0 such that En(θ,θ0)=0"
      ],
      "id": "98d83825"
    },
    {
      "cell_type": "code",
      "metadata": {
        "colab": {
          "base_uri": "https://localhost:8080/"
        },
        "id": "c56f6bfa",
        "outputId": "3b558f27-a28c-4cb6-a54b-f7f3e01596a5"
      },
      "source": [
        "print(\"yes\")"
      ],
      "id": "c56f6bfa",
      "execution_count": 5,
      "outputs": [
        {
          "output_type": "stream",
          "text": [
            "yes\n"
          ],
          "name": "stdout"
        }
      ]
    },
    {
      "cell_type": "markdown",
      "metadata": {
        "id": "99ddd4aa"
      },
      "source": [
        "3. Ex3c A separator with 0 training error exists"
      ],
      "id": "99ddd4aa"
    },
    {
      "cell_type": "code",
      "metadata": {
        "colab": {
          "base_uri": "https://localhost:8080/"
        },
        "id": "246bd841",
        "outputId": "0457dd30-addf-4f88-c80e-db326c895988"
      },
      "source": [
        "print(\"yes\")"
      ],
      "id": "246bd841",
      "execution_count": 6,
      "outputs": [
        {
          "output_type": "stream",
          "text": [
            "yes\n"
          ],
          "name": "stdout"
        }
      ]
    },
    {
      "cell_type": "markdown",
      "metadata": {
        "id": "e84ef210"
      },
      "source": [
        "4. Ex3d A separator with 0 testing error exists, for all possible test sets"
      ],
      "id": "e84ef210"
    },
    {
      "cell_type": "code",
      "metadata": {
        "colab": {
          "base_uri": "https://localhost:8080/"
        },
        "id": "32a98b10",
        "outputId": "7e4cd66e-0fe8-4470-9ee8-7d1f50c8e8f0"
      },
      "source": [
        "print(\"no\")"
      ],
      "id": "32a98b10",
      "execution_count": 7,
      "outputs": [
        {
          "output_type": "stream",
          "text": [
            "no\n"
          ],
          "name": "stdout"
        }
      ]
    },
    {
      "cell_type": "markdown",
      "metadata": {
        "id": "aacc711f"
      },
      "source": [
        "5. Ex3e The perceptron algorithm will find θ,θ0 such that En(θ,θ0)=0"
      ],
      "id": "aacc711f"
    },
    {
      "cell_type": "code",
      "metadata": {
        "colab": {
          "base_uri": "https://localhost:8080/"
        },
        "id": "9533012e",
        "outputId": "431d72a5-09b9-448a-af36-19bc3cd595f6"
      },
      "source": [
        "print(\"yes\")"
      ],
      "id": "9533012e",
      "execution_count": 8,
      "outputs": [
        {
          "output_type": "stream",
          "text": [
            "yes\n"
          ],
          "name": "stdout"
        }
      ]
    },
    {
      "cell_type": "markdown",
      "metadata": {
        "id": "ecdd4322"
      },
      "source": [
        "# 4) Separable Through Origin?"
      ],
      "id": "ecdd4322"
    },
    {
      "cell_type": "markdown",
      "metadata": {
        "id": "e4431054"
      },
      "source": [
        "Provide two points, (x0, x1)(x0,x1) and (y0, y1)(y0,y1) in two dimensions that are linearly separable but not linearly separable through the origin. If you get stuck try drawing a picture and review the notes on offsets."
      ],
      "id": "e4431054"
    },
    {
      "cell_type": "markdown",
      "metadata": {
        "id": "57826ba7"
      },
      "source": [
        "Enter a Python list with two entries of the form [[ x0, x1], label] where label is 1 or -1. (So each entry represents a point with 2 dimensions and its label)"
      ],
      "id": "57826ba7"
    },
    {
      "cell_type": "code",
      "metadata": {
        "colab": {
          "base_uri": "https://localhost:8080/"
        },
        "id": "6b7f7d01",
        "outputId": "345ea3d3-fe11-4f5c-9bea-bac014d25561"
      },
      "source": [
        "# There are many possible answers for this question. In the provided solution, [[[1, 1], 1], [[2, 2], -1]], the points are linearly separable, but not through the origin -- try drawing the points.\n",
        "\n",
        "print(\"[[[1, 1], 1], [[2, 2], -1]]\")"
      ],
      "id": "6b7f7d01",
      "execution_count": 9,
      "outputs": [
        {
          "output_type": "stream",
          "text": [
            "[[[1, 1], 1], [[2, 2], -1]]\n"
          ],
          "name": "stdout"
        }
      ]
    }
  ]
}